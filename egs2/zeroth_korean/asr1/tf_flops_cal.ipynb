{
 "metadata": {
  "language_info": {
   "codemirror_mode": {
    "name": "ipython",
    "version": 3
   },
   "file_extension": ".py",
   "mimetype": "text/x-python",
   "name": "python",
   "nbconvert_exporter": "python",
   "pygments_lexer": "ipython3",
   "version": "3.7.9-final"
  },
  "orig_nbformat": 2,
  "kernelspec": {
   "name": "python3",
   "display_name": "Python 3",
   "language": "python"
  }
 },
 "nbformat": 4,
 "nbformat_minor": 2,
 "cells": [
  {
   "cell_type": "code",
   "execution_count": 4,
   "metadata": {},
   "outputs": [],
   "source": [
    "import soundfile\n",
    "import torch\n",
    "import matplotlib.pyplot as plt"
   ]
  },
  {
   "cell_type": "code",
   "execution_count": 5,
   "metadata": {},
   "outputs": [],
   "source": [
    "def matrix_mul_flops(m1_shape, m2_shape, bias=True):\n",
    "    assert m1_shape[1] == m2_shape[0], '행렬 연산의 사이즈가 맞지 않습니다.'\n",
    "\n",
    "    if bias == True:\n",
    "        (A, B) = m1_shape\n",
    "        (B, C) = m2_shape\n",
    "        mat_flops = (2*B - 1) * A * C\n",
    "        mat_flops += A * C\n",
    "\n",
    "        return mat_flops\n",
    "    else:\n",
    "        (A, B) = m1_shape\n",
    "        (B, C) = m2_shape\n",
    "        mat_flops = (2*B - 1) * A * C\n",
    "\n",
    "        return mat_flops"
   ]
  },
  {
   "cell_type": "code",
   "execution_count": 6,
   "metadata": {},
   "outputs": [],
   "source": [
    "def self_attn_flops_cal(input_shape, d_model, d_k_q=64, d_v=64, n_heads=8, n_ff=2048):\n",
    "\n",
    "    seqlen, input_dim = input_shape[0], input_shape[1]\n",
    "    # linear_q\n",
    "    assert input_dim == d_model, '모델 파라미터와 input의 사이즈가 맞지 않습니다.'\n",
    "\n",
    "    # Q, K, V\n",
    "    FLOPs_linear_q, FLOPs_linear_k, FLOPs_linear_v = 0, 0, 0\n",
    "    for head in range(n_heads):\n",
    "        FLOPs_linear_q += matrix_mul_flops(input_shape, [d_model, d_k_q])\n",
    "        FLOPs_linear_k += matrix_mul_flops(input_shape, [d_model, d_k_q])\n",
    "        FLOPs_linear_v += matrix_mul_flops(input_shape, [d_model, d_v])\n",
    "\n",
    "    # Score\n",
    "    FLOPs_score = 0\n",
    "    for head in range(n_heads):\n",
    "        FLOPs_score += matrix_mul_flops([seqlen, d_k_q], [d_k_q, seqlen], bias=False) + (seqlen * seqlen)\n",
    "        # attention\n",
    "        FLOPs_score += matrix_mul_flops([seqlen, seqlen], [seqlen, d_v], bias=False)\n",
    "    \n",
    "    # Concatenate out\n",
    "    FLOPs_concatenate_out = matrix_mul_flops([seqlen, d_v*n_heads], [d_v*n_heads, d_model]) \n",
    "\n",
    "    # Add & Norm\n",
    "    FLOPs_add = seqlen * d_model\n",
    "    FLOPs_norm = seqlen * d_model * 2\n",
    "\n",
    "    # PositionwiseFeedForward\n",
    "    FLOPs_ffnn = matrix_mul_flops([seqlen, d_model], [d_model, n_ff])\n",
    "    FLOPs_ffnn += matrix_mul_flops([seqlen, n_ff], [n_ff, d_model])\n",
    "\n",
    "    # Total FLOPs\n",
    "    FLOPs_head = FLOPs_linear_q + FLOPs_linear_k + FLOPs_linear_v + FLOPs_score \n",
    "    FLOPs_total = FLOPs_linear_q + FLOPs_linear_k + FLOPs_linear_v + FLOPs_score + FLOPs_concatenate_out + FLOPs_add + FLOPs_norm + FLOPs_ffnn\n",
    "\n",
    "    return FLOPs_total, FLOPs_head"
   ]
  },
  {
   "cell_type": "code",
   "execution_count": 7,
   "metadata": {},
   "outputs": [
    {
     "output_type": "stream",
     "name": "stdout",
     "text": [
      "0.08794368 GFLOPs\n0.061915392 GFLOPs\n"
     ]
    }
   ],
   "source": [
    "# transformer's hyper parameters\n",
    "# linear_q, linear_k, linear_v, linear_out, feed_forward_w_1, feed_forward_w_2, norm1, norm2\n",
    "# 4.815sec speech\n",
    "input_shape = [99, 256]\n",
    "\n",
    "one_layer_FLOPs, one_layer_head_FLOPs = self_attn_flops_cal(input_shape, d_model=256, d_k_q=64, d_v=64, n_heads=4, n_ff=256)\n",
    "\n",
    "print(f\"{one_layer_FLOPs/1e9} GFLOPs\")\n",
    "print(f\"{one_layer_head_FLOPs/1e9} GFLOPs\")"
   ]
  }
 ]
}