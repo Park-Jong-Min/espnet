{
 "metadata": {
  "language_info": {
   "codemirror_mode": {
    "name": "ipython",
    "version": 3
   },
   "file_extension": ".py",
   "mimetype": "text/x-python",
   "name": "python",
   "nbconvert_exporter": "python",
   "pygments_lexer": "ipython3",
   "version": "3.8.5-final"
  },
  "orig_nbformat": 2,
  "kernelspec": {
   "name": "espnet_1.7.1",
   "display_name": "espnet_1.7.1",
   "language": "python"
  }
 },
 "nbformat": 4,
 "nbformat_minor": 2,
 "cells": [
  {
   "cell_type": "code",
   "execution_count": 1,
   "metadata": {},
   "outputs": [],
   "source": [
    "import soundfile\n",
    "import torch\n",
    "import matplotlib.pyplot as plt\n",
    "from espnet_model_zoo.downloader import ModelDownloader\n",
    "from espnet2.bin.asr_inference import Speech2Text"
   ]
  },
  {
   "cell_type": "code",
   "execution_count": 2,
   "metadata": {},
   "outputs": [],
   "source": [
    "\n",
    "# Set test wav for attention image extraction\n",
    "TEST_DATA_PATH = \"./data/dev_clean\"\n",
    "WAV_LIST_PATH = TEST_DATA_PATH + \"/wav.scp\"\n",
    "\n",
    "file_name_list = []\n",
    "audio_num = 1 # selelct one of the wav in file_name_list\n",
    "\n",
    "with open(WAV_LIST_PATH, \"r\") as f:\n",
    "    lines = f.readlines()\n",
    "    for line in lines:\n",
    "        num, name = line.split(' ')\n",
    "        file_name_list.append(name[:-1])\n",
    "\n",
    "speech, rate = soundfile.read(file_name_list[audio_num])\n",
    "\n",
    "# Prepare model\n",
    "d = ModelDownloader()\n",
    "\n",
    "ASR_MODEL_PATH = \"/home_data/jmpark/espnet/tools/anaconda/envs/espnet_1.7/lib/python3.8/site-packages/espnet_model_zoo/653d10049fdc264f694f57b49849343e/exp/asr_train_asr_transformer_e18_raw_bpe_sp/54epoch.pth\"\n",
    "LM_MODEL_PATH = \"/home_data/jmpark/espnet/tools/anaconda/envs/espnet_1.7.1/lib/python3.8/site-packages/espnet_model_zoo/653d10049fdc264f694f57b49849343e/exp/lm_train_lm_adam_bpe/17epoch.pth\"\n",
    "\n",
    "speech2text = Speech2Text(\n",
    "    **d.download_and_unpack('Shinji Watanabe/librispeech_asr_train_asr_transformer_e18_raw_bpe_sp_valid.acc.best'),\n",
    "    # Decoding parameters are not included in the model file\n",
    "    maxlenratio=0.0,\n",
    "    minlenratio=0.0,\n",
    "    beam_size=1,\n",
    "    ctc_weight=0.4,\n",
    "    lm_weight=0.6,\n",
    "    penalty=0.0,\n",
    "    nbest=1\n",
    ")\n",
    "# Add register hook for in encoder layers.\n",
    "net = speech2text.asr_model"
   ]
  },
  {
   "cell_type": "code",
   "execution_count": 3,
   "metadata": {
    "tags": []
   },
   "outputs": [
    {
     "output_type": "stream",
     "name": "stdout",
     "text": [
      "encoder.encoders.0.self_attn\nMultiHeadedAttention(\n  (linear_q): Linear(in_features=512, out_features=512, bias=True)\n  (linear_k): Linear(in_features=512, out_features=512, bias=True)\n  (linear_v): Linear(in_features=512, out_features=512, bias=True)\n  (linear_out): Linear(in_features=512, out_features=512, bias=True)\n  (dropout): Dropout(p=0.1, inplace=False)\n)\nencoder.encoders.1.self_attn\nMultiHeadedAttention(\n  (linear_q): Linear(in_features=512, out_features=512, bias=True)\n  (linear_k): Linear(in_features=512, out_features=512, bias=True)\n  (linear_v): Linear(in_features=512, out_features=512, bias=True)\n  (linear_out): Linear(in_features=512, out_features=512, bias=True)\n  (dropout): Dropout(p=0.1, inplace=False)\n)\nencoder.encoders.2.self_attn\nMultiHeadedAttention(\n  (linear_q): Linear(in_features=512, out_features=512, bias=True)\n  (linear_k): Linear(in_features=512, out_features=512, bias=True)\n  (linear_v): Linear(in_features=512, out_features=512, bias=True)\n  (linear_out): Linear(in_features=512, out_features=512, bias=True)\n  (dropout): Dropout(p=0.1, inplace=False)\n)\nencoder.encoders.3.self_attn\nMultiHeadedAttention(\n  (linear_q): Linear(in_features=512, out_features=512, bias=True)\n  (linear_k): Linear(in_features=512, out_features=512, bias=True)\n  (linear_v): Linear(in_features=512, out_features=512, bias=True)\n  (linear_out): Linear(in_features=512, out_features=512, bias=True)\n  (dropout): Dropout(p=0.1, inplace=False)\n)\nencoder.encoders.4.self_attn\nMultiHeadedAttention(\n  (linear_q): Linear(in_features=512, out_features=512, bias=True)\n  (linear_k): Linear(in_features=512, out_features=512, bias=True)\n  (linear_v): Linear(in_features=512, out_features=512, bias=True)\n  (linear_out): Linear(in_features=512, out_features=512, bias=True)\n  (dropout): Dropout(p=0.1, inplace=False)\n)\nencoder.encoders.5.self_attn\nMultiHeadedAttention(\n  (linear_q): Linear(in_features=512, out_features=512, bias=True)\n  (linear_k): Linear(in_features=512, out_features=512, bias=True)\n  (linear_v): Linear(in_features=512, out_features=512, bias=True)\n  (linear_out): Linear(in_features=512, out_features=512, bias=True)\n  (dropout): Dropout(p=0.1, inplace=False)\n)\nencoder.encoders.6.self_attn\nMultiHeadedAttention(\n  (linear_q): Linear(in_features=512, out_features=512, bias=True)\n  (linear_k): Linear(in_features=512, out_features=512, bias=True)\n  (linear_v): Linear(in_features=512, out_features=512, bias=True)\n  (linear_out): Linear(in_features=512, out_features=512, bias=True)\n  (dropout): Dropout(p=0.1, inplace=False)\n)\nencoder.encoders.7.self_attn\nMultiHeadedAttention(\n  (linear_q): Linear(in_features=512, out_features=512, bias=True)\n  (linear_k): Linear(in_features=512, out_features=512, bias=True)\n  (linear_v): Linear(in_features=512, out_features=512, bias=True)\n  (linear_out): Linear(in_features=512, out_features=512, bias=True)\n  (dropout): Dropout(p=0.1, inplace=False)\n)\nencoder.encoders.8.self_attn\nMultiHeadedAttention(\n  (linear_q): Linear(in_features=512, out_features=512, bias=True)\n  (linear_k): Linear(in_features=512, out_features=512, bias=True)\n  (linear_v): Linear(in_features=512, out_features=512, bias=True)\n  (linear_out): Linear(in_features=512, out_features=512, bias=True)\n  (dropout): Dropout(p=0.1, inplace=False)\n)\nencoder.encoders.9.self_attn\nMultiHeadedAttention(\n  (linear_q): Linear(in_features=512, out_features=512, bias=True)\n  (linear_k): Linear(in_features=512, out_features=512, bias=True)\n  (linear_v): Linear(in_features=512, out_features=512, bias=True)\n  (linear_out): Linear(in_features=512, out_features=512, bias=True)\n  (dropout): Dropout(p=0.1, inplace=False)\n)\nencoder.encoders.10.self_attn\nMultiHeadedAttention(\n  (linear_q): Linear(in_features=512, out_features=512, bias=True)\n  (linear_k): Linear(in_features=512, out_features=512, bias=True)\n  (linear_v): Linear(in_features=512, out_features=512, bias=True)\n  (linear_out): Linear(in_features=512, out_features=512, bias=True)\n  (dropout): Dropout(p=0.1, inplace=False)\n)\nencoder.encoders.11.self_attn\nMultiHeadedAttention(\n  (linear_q): Linear(in_features=512, out_features=512, bias=True)\n  (linear_k): Linear(in_features=512, out_features=512, bias=True)\n  (linear_v): Linear(in_features=512, out_features=512, bias=True)\n  (linear_out): Linear(in_features=512, out_features=512, bias=True)\n  (dropout): Dropout(p=0.1, inplace=False)\n)\nencoder.encoders.12.self_attn\nMultiHeadedAttention(\n  (linear_q): Linear(in_features=512, out_features=512, bias=True)\n  (linear_k): Linear(in_features=512, out_features=512, bias=True)\n  (linear_v): Linear(in_features=512, out_features=512, bias=True)\n  (linear_out): Linear(in_features=512, out_features=512, bias=True)\n  (dropout): Dropout(p=0.1, inplace=False)\n)\nencoder.encoders.13.self_attn\nMultiHeadedAttention(\n  (linear_q): Linear(in_features=512, out_features=512, bias=True)\n  (linear_k): Linear(in_features=512, out_features=512, bias=True)\n  (linear_v): Linear(in_features=512, out_features=512, bias=True)\n  (linear_out): Linear(in_features=512, out_features=512, bias=True)\n  (dropout): Dropout(p=0.1, inplace=False)\n)\nencoder.encoders.14.self_attn\nMultiHeadedAttention(\n  (linear_q): Linear(in_features=512, out_features=512, bias=True)\n  (linear_k): Linear(in_features=512, out_features=512, bias=True)\n  (linear_v): Linear(in_features=512, out_features=512, bias=True)\n  (linear_out): Linear(in_features=512, out_features=512, bias=True)\n  (dropout): Dropout(p=0.1, inplace=False)\n)\nencoder.encoders.15.self_attn\nMultiHeadedAttention(\n  (linear_q): Linear(in_features=512, out_features=512, bias=True)\n  (linear_k): Linear(in_features=512, out_features=512, bias=True)\n  (linear_v): Linear(in_features=512, out_features=512, bias=True)\n  (linear_out): Linear(in_features=512, out_features=512, bias=True)\n  (dropout): Dropout(p=0.1, inplace=False)\n)\nencoder.encoders.16.self_attn\nMultiHeadedAttention(\n  (linear_q): Linear(in_features=512, out_features=512, bias=True)\n  (linear_k): Linear(in_features=512, out_features=512, bias=True)\n  (linear_v): Linear(in_features=512, out_features=512, bias=True)\n  (linear_out): Linear(in_features=512, out_features=512, bias=True)\n  (dropout): Dropout(p=0.1, inplace=False)\n)\nencoder.encoders.17.self_attn\nMultiHeadedAttention(\n  (linear_q): Linear(in_features=512, out_features=512, bias=True)\n  (linear_k): Linear(in_features=512, out_features=512, bias=True)\n  (linear_v): Linear(in_features=512, out_features=512, bias=True)\n  (linear_out): Linear(in_features=512, out_features=512, bias=True)\n  (dropout): Dropout(p=0.1, inplace=False)\n)\n"
     ]
    }
   ],
   "source": [
    "saved_encoder_self_attn_images = []\n",
    "\n",
    "def attn_encoder(self, input_tensor, output_tensor):\n",
    "    cols = output_tensor[1].size(1)\n",
    "\n",
    "    for i in range(cols):\n",
    "        img = output_tensor[1][0,i,:]\n",
    "        saved_encoder_self_attn_images.append(img)\n",
    "\n",
    "for name, parameter in net.named_modules():\n",
    "    for i in range(18): \n",
    "        if 'encoder.encoders.'+ str(i) +'.self_attn' == name:\n",
    "            print(name)\n",
    "            print(parameter)\n",
    "            parameter.register_forward_hook(attn_encoder)"
   ]
  },
  {
   "cell_type": "code",
   "execution_count": 4,
   "metadata": {},
   "outputs": [
    {
     "output_type": "stream",
     "name": "stdout",
     "text": [
      "decoder.decoders.0.self_attn\nMultiHeadedAttention(\n  (linear_q): Linear(in_features=512, out_features=512, bias=True)\n  (linear_k): Linear(in_features=512, out_features=512, bias=True)\n  (linear_v): Linear(in_features=512, out_features=512, bias=True)\n  (linear_out): Linear(in_features=512, out_features=512, bias=True)\n  (dropout): Dropout(p=0.1, inplace=False)\n)\ndecoder.decoders.1.self_attn\nMultiHeadedAttention(\n  (linear_q): Linear(in_features=512, out_features=512, bias=True)\n  (linear_k): Linear(in_features=512, out_features=512, bias=True)\n  (linear_v): Linear(in_features=512, out_features=512, bias=True)\n  (linear_out): Linear(in_features=512, out_features=512, bias=True)\n  (dropout): Dropout(p=0.1, inplace=False)\n)\ndecoder.decoders.2.self_attn\nMultiHeadedAttention(\n  (linear_q): Linear(in_features=512, out_features=512, bias=True)\n  (linear_k): Linear(in_features=512, out_features=512, bias=True)\n  (linear_v): Linear(in_features=512, out_features=512, bias=True)\n  (linear_out): Linear(in_features=512, out_features=512, bias=True)\n  (dropout): Dropout(p=0.1, inplace=False)\n)\ndecoder.decoders.3.self_attn\nMultiHeadedAttention(\n  (linear_q): Linear(in_features=512, out_features=512, bias=True)\n  (linear_k): Linear(in_features=512, out_features=512, bias=True)\n  (linear_v): Linear(in_features=512, out_features=512, bias=True)\n  (linear_out): Linear(in_features=512, out_features=512, bias=True)\n  (dropout): Dropout(p=0.1, inplace=False)\n)\ndecoder.decoders.4.self_attn\nMultiHeadedAttention(\n  (linear_q): Linear(in_features=512, out_features=512, bias=True)\n  (linear_k): Linear(in_features=512, out_features=512, bias=True)\n  (linear_v): Linear(in_features=512, out_features=512, bias=True)\n  (linear_out): Linear(in_features=512, out_features=512, bias=True)\n  (dropout): Dropout(p=0.1, inplace=False)\n)\ndecoder.decoders.5.self_attn\nMultiHeadedAttention(\n  (linear_q): Linear(in_features=512, out_features=512, bias=True)\n  (linear_k): Linear(in_features=512, out_features=512, bias=True)\n  (linear_v): Linear(in_features=512, out_features=512, bias=True)\n  (linear_out): Linear(in_features=512, out_features=512, bias=True)\n  (dropout): Dropout(p=0.1, inplace=False)\n)\n"
     ]
    }
   ],
   "source": [
    "saved_decoder_self_attn_images = []\n",
    "\n",
    "def attn_decoder(self, input_tensor, output_tensor):\n",
    "    cols = output_tensor[1].size(1)\n",
    "\n",
    "    for i in range(cols):\n",
    "        img = output_tensor[1][0,i,:]\n",
    "        saved_decoder_self_attn_images.append(img)\n",
    "\n",
    "for name, parameter in net.named_modules():\n",
    "    for i in range(6): \n",
    "        if 'decoder.decoders.'+ str(i) +'.self_attn' == name:\n",
    "            print(name)\n",
    "            print(parameter)\n",
    "            parameter.register_forward_hook(attn_decoder)"
   ]
  },
  {
   "cell_type": "code",
   "execution_count": 5,
   "metadata": {},
   "outputs": [
    {
     "output_type": "stream",
     "name": "stdout",
     "text": [
      "decoder.decoders.0.src_attn\nMultiHeadedAttention(\n  (linear_q): Linear(in_features=512, out_features=512, bias=True)\n  (linear_k): Linear(in_features=512, out_features=512, bias=True)\n  (linear_v): Linear(in_features=512, out_features=512, bias=True)\n  (linear_out): Linear(in_features=512, out_features=512, bias=True)\n  (dropout): Dropout(p=0.1, inplace=False)\n)\ndecoder.decoders.1.src_attn\nMultiHeadedAttention(\n  (linear_q): Linear(in_features=512, out_features=512, bias=True)\n  (linear_k): Linear(in_features=512, out_features=512, bias=True)\n  (linear_v): Linear(in_features=512, out_features=512, bias=True)\n  (linear_out): Linear(in_features=512, out_features=512, bias=True)\n  (dropout): Dropout(p=0.1, inplace=False)\n)\ndecoder.decoders.2.src_attn\nMultiHeadedAttention(\n  (linear_q): Linear(in_features=512, out_features=512, bias=True)\n  (linear_k): Linear(in_features=512, out_features=512, bias=True)\n  (linear_v): Linear(in_features=512, out_features=512, bias=True)\n  (linear_out): Linear(in_features=512, out_features=512, bias=True)\n  (dropout): Dropout(p=0.1, inplace=False)\n)\ndecoder.decoders.3.src_attn\nMultiHeadedAttention(\n  (linear_q): Linear(in_features=512, out_features=512, bias=True)\n  (linear_k): Linear(in_features=512, out_features=512, bias=True)\n  (linear_v): Linear(in_features=512, out_features=512, bias=True)\n  (linear_out): Linear(in_features=512, out_features=512, bias=True)\n  (dropout): Dropout(p=0.1, inplace=False)\n)\ndecoder.decoders.4.src_attn\nMultiHeadedAttention(\n  (linear_q): Linear(in_features=512, out_features=512, bias=True)\n  (linear_k): Linear(in_features=512, out_features=512, bias=True)\n  (linear_v): Linear(in_features=512, out_features=512, bias=True)\n  (linear_out): Linear(in_features=512, out_features=512, bias=True)\n  (dropout): Dropout(p=0.1, inplace=False)\n)\ndecoder.decoders.5.src_attn\nMultiHeadedAttention(\n  (linear_q): Linear(in_features=512, out_features=512, bias=True)\n  (linear_k): Linear(in_features=512, out_features=512, bias=True)\n  (linear_v): Linear(in_features=512, out_features=512, bias=True)\n  (linear_out): Linear(in_features=512, out_features=512, bias=True)\n  (dropout): Dropout(p=0.1, inplace=False)\n)\n"
     ]
    }
   ],
   "source": [
    "saved_decoder_self_attn_images = []\n",
    "\n",
    "def attn_decoder_src(self, input_tensor, output_tensor):\n",
    "\n",
    "    # saved_decoder_src_attn_images.append(output_tensor)\n",
    "\n",
    "    cols = output_tensor[1].size(1)\n",
    "\n",
    "    for i in range(cols):\n",
    "        img = output_tensor[1][0,i,:]\n",
    "        saved_decoder_src_attn_images.append(img)\n",
    "\n",
    "for name, parameter in net.named_modules():\n",
    "    for i in range(6): \n",
    "        if 'decoder.decoders.'+ str(i) +'.src_attn' == name:\n",
    "            print(name)\n",
    "            print(parameter)\n",
    "            parameter.register_forward_hook(attn_decoder_src)"
   ]
  },
  {
   "cell_type": "code",
   "execution_count": 11,
   "metadata": {
    "tags": []
   },
   "outputs": [],
   "source": [
    "saved_encoder_self_attn_images = []\n",
    "saved_decoder_self_attn_images = []\n",
    "saved_decoder_src_attn_images = []\n",
    "out = speech2text(speech)"
   ]
  },
  {
   "cell_type": "code",
   "execution_count": 12,
   "metadata": {},
   "outputs": [
    {
     "output_type": "stream",
     "name": "stdout",
     "text": [
      "144\n0\n"
     ]
    }
   ],
   "source": [
    "print(len(saved_encoder_self_attn_images))\n",
    "print(len(saved_decoder_src_attn_images))\n"
   ]
  },
  {
   "cell_type": "code",
   "execution_count": 9,
   "metadata": {},
   "outputs": [
    {
     "output_type": "error",
     "ename": "IndexError",
     "evalue": "list index out of range",
     "traceback": [
      "\u001b[0;31m---------------------------------------------------------------------------\u001b[0m",
      "\u001b[0;31mIndexError\u001b[0m                                Traceback (most recent call last)",
      "\u001b[0;32m<ipython-input-9-e45b0319cc47>\u001b[0m in \u001b[0;36m<module>\u001b[0;34m\u001b[0m\n\u001b[0;32m----> 1\u001b[0;31m \u001b[0msaved_decoder_src_attn_images\u001b[0m\u001b[0;34m[\u001b[0m\u001b[0;36m0\u001b[0m\u001b[0;34m]\u001b[0m\u001b[0;34m\u001b[0m\u001b[0;34m\u001b[0m\u001b[0m\n\u001b[0m",
      "\u001b[0;31mIndexError\u001b[0m: list index out of range"
     ]
    }
   ],
   "source": [
    "saved_decoder_src_attn_images[0]"
   ]
  },
  {
   "cell_type": "code",
   "execution_count": 8,
   "metadata": {},
   "outputs": [
    {
     "output_type": "stream",
     "name": "stdout",
     "text": [
      "\nfrontend\nfrontend.stft\nfrontend.frontend\nfrontend.logmel\nspecaug\nspecaug.time_warp\nspecaug.freq_mask\nspecaug.time_mask\nnormalize\nencoder\nencoder.embed\nencoder.embed.conv\nencoder.embed.conv.0\nencoder.embed.conv.1\nencoder.embed.conv.2\nencoder.embed.conv.3\nencoder.embed.out\nencoder.embed.out.0\nencoder.embed.out.1\nencoder.embed.out.1.dropout\nencoder.encoders\nencoder.encoders.0\nencoder.encoders.0.self_attn\nencoder.encoders.0.self_attn.linear_q\nencoder.encoders.0.self_attn.linear_k\nencoder.encoders.0.self_attn.linear_v\nencoder.encoders.0.self_attn.linear_out\nencoder.encoders.0.self_attn.dropout\nencoder.encoders.0.feed_forward\nencoder.encoders.0.feed_forward.w_1\nencoder.encoders.0.feed_forward.w_2\nencoder.encoders.0.feed_forward.dropout\nencoder.encoders.0.feed_forward.activation\nencoder.encoders.0.norm1\nencoder.encoders.0.norm2\nencoder.encoders.0.dropout\nencoder.encoders.1\nencoder.encoders.1.self_attn\nencoder.encoders.1.self_attn.linear_q\nencoder.encoders.1.self_attn.linear_k\nencoder.encoders.1.self_attn.linear_v\nencoder.encoders.1.self_attn.linear_out\nencoder.encoders.1.self_attn.dropout\nencoder.encoders.1.feed_forward\nencoder.encoders.1.feed_forward.w_1\nencoder.encoders.1.feed_forward.w_2\nencoder.encoders.1.feed_forward.dropout\nencoder.encoders.1.norm1\nencoder.encoders.1.norm2\nencoder.encoders.1.dropout\nencoder.encoders.2\nencoder.encoders.2.self_attn\nencoder.encoders.2.self_attn.linear_q\nencoder.encoders.2.self_attn.linear_k\nencoder.encoders.2.self_attn.linear_v\nencoder.encoders.2.self_attn.linear_out\nencoder.encoders.2.self_attn.dropout\nencoder.encoders.2.feed_forward\nencoder.encoders.2.feed_forward.w_1\nencoder.encoders.2.feed_forward.w_2\nencoder.encoders.2.feed_forward.dropout\nencoder.encoders.2.norm1\nencoder.encoders.2.norm2\nencoder.encoders.2.dropout\nencoder.encoders.3\nencoder.encoders.3.self_attn\nencoder.encoders.3.self_attn.linear_q\nencoder.encoders.3.self_attn.linear_k\nencoder.encoders.3.self_attn.linear_v\nencoder.encoders.3.self_attn.linear_out\nencoder.encoders.3.self_attn.dropout\nencoder.encoders.3.feed_forward\nencoder.encoders.3.feed_forward.w_1\nencoder.encoders.3.feed_forward.w_2\nencoder.encoders.3.feed_forward.dropout\nencoder.encoders.3.norm1\nencoder.encoders.3.norm2\nencoder.encoders.3.dropout\nencoder.encoders.4\nencoder.encoders.4.self_attn\nencoder.encoders.4.self_attn.linear_q\nencoder.encoders.4.self_attn.linear_k\nencoder.encoders.4.self_attn.linear_v\nencoder.encoders.4.self_attn.linear_out\nencoder.encoders.4.self_attn.dropout\nencoder.encoders.4.feed_forward\nencoder.encoders.4.feed_forward.w_1\nencoder.encoders.4.feed_forward.w_2\nencoder.encoders.4.feed_forward.dropout\nencoder.encoders.4.norm1\nencoder.encoders.4.norm2\nencoder.encoders.4.dropout\nencoder.encoders.5\nencoder.encoders.5.self_attn\nencoder.encoders.5.self_attn.linear_q\nencoder.encoders.5.self_attn.linear_k\nencoder.encoders.5.self_attn.linear_v\nencoder.encoders.5.self_attn.linear_out\nencoder.encoders.5.self_attn.dropout\nencoder.encoders.5.feed_forward\nencoder.encoders.5.feed_forward.w_1\nencoder.encoders.5.feed_forward.w_2\nencoder.encoders.5.feed_forward.dropout\nencoder.encoders.5.norm1\nencoder.encoders.5.norm2\nencoder.encoders.5.dropout\nencoder.encoders.6\nencoder.encoders.6.self_attn\nencoder.encoders.6.self_attn.linear_q\nencoder.encoders.6.self_attn.linear_k\nencoder.encoders.6.self_attn.linear_v\nencoder.encoders.6.self_attn.linear_out\nencoder.encoders.6.self_attn.dropout\nencoder.encoders.6.feed_forward\nencoder.encoders.6.feed_forward.w_1\nencoder.encoders.6.feed_forward.w_2\nencoder.encoders.6.feed_forward.dropout\nencoder.encoders.6.norm1\nencoder.encoders.6.norm2\nencoder.encoders.6.dropout\nencoder.encoders.7\nencoder.encoders.7.self_attn\nencoder.encoders.7.self_attn.linear_q\nencoder.encoders.7.self_attn.linear_k\nencoder.encoders.7.self_attn.linear_v\nencoder.encoders.7.self_attn.linear_out\nencoder.encoders.7.self_attn.dropout\nencoder.encoders.7.feed_forward\nencoder.encoders.7.feed_forward.w_1\nencoder.encoders.7.feed_forward.w_2\nencoder.encoders.7.feed_forward.dropout\nencoder.encoders.7.norm1\nencoder.encoders.7.norm2\nencoder.encoders.7.dropout\nencoder.encoders.8\nencoder.encoders.8.self_attn\nencoder.encoders.8.self_attn.linear_q\nencoder.encoders.8.self_attn.linear_k\nencoder.encoders.8.self_attn.linear_v\nencoder.encoders.8.self_attn.linear_out\nencoder.encoders.8.self_attn.dropout\nencoder.encoders.8.feed_forward\nencoder.encoders.8.feed_forward.w_1\nencoder.encoders.8.feed_forward.w_2\nencoder.encoders.8.feed_forward.dropout\nencoder.encoders.8.norm1\nencoder.encoders.8.norm2\nencoder.encoders.8.dropout\nencoder.encoders.9\nencoder.encoders.9.self_attn\nencoder.encoders.9.self_attn.linear_q\nencoder.encoders.9.self_attn.linear_k\nencoder.encoders.9.self_attn.linear_v\nencoder.encoders.9.self_attn.linear_out\nencoder.encoders.9.self_attn.dropout\nencoder.encoders.9.feed_forward\nencoder.encoders.9.feed_forward.w_1\nencoder.encoders.9.feed_forward.w_2\nencoder.encoders.9.feed_forward.dropout\nencoder.encoders.9.norm1\nencoder.encoders.9.norm2\nencoder.encoders.9.dropout\nencoder.encoders.10\nencoder.encoders.10.self_attn\nencoder.encoders.10.self_attn.linear_q\nencoder.encoders.10.self_attn.linear_k\nencoder.encoders.10.self_attn.linear_v\nencoder.encoders.10.self_attn.linear_out\nencoder.encoders.10.self_attn.dropout\nencoder.encoders.10.feed_forward\nencoder.encoders.10.feed_forward.w_1\nencoder.encoders.10.feed_forward.w_2\nencoder.encoders.10.feed_forward.dropout\nencoder.encoders.10.norm1\nencoder.encoders.10.norm2\nencoder.encoders.10.dropout\nencoder.encoders.11\nencoder.encoders.11.self_attn\nencoder.encoders.11.self_attn.linear_q\nencoder.encoders.11.self_attn.linear_k\nencoder.encoders.11.self_attn.linear_v\nencoder.encoders.11.self_attn.linear_out\nencoder.encoders.11.self_attn.dropout\nencoder.encoders.11.feed_forward\nencoder.encoders.11.feed_forward.w_1\nencoder.encoders.11.feed_forward.w_2\nencoder.encoders.11.feed_forward.dropout\nencoder.encoders.11.norm1\nencoder.encoders.11.norm2\nencoder.encoders.11.dropout\nencoder.encoders.12\nencoder.encoders.12.self_attn\nencoder.encoders.12.self_attn.linear_q\nencoder.encoders.12.self_attn.linear_k\nencoder.encoders.12.self_attn.linear_v\nencoder.encoders.12.self_attn.linear_out\nencoder.encoders.12.self_attn.dropout\nencoder.encoders.12.feed_forward\nencoder.encoders.12.feed_forward.w_1\nencoder.encoders.12.feed_forward.w_2\nencoder.encoders.12.feed_forward.dropout\nencoder.encoders.12.norm1\nencoder.encoders.12.norm2\nencoder.encoders.12.dropout\nencoder.encoders.13\nencoder.encoders.13.self_attn\nencoder.encoders.13.self_attn.linear_q\nencoder.encoders.13.self_attn.linear_k\nencoder.encoders.13.self_attn.linear_v\nencoder.encoders.13.self_attn.linear_out\nencoder.encoders.13.self_attn.dropout\nencoder.encoders.13.feed_forward\nencoder.encoders.13.feed_forward.w_1\nencoder.encoders.13.feed_forward.w_2\nencoder.encoders.13.feed_forward.dropout\nencoder.encoders.13.norm1\nencoder.encoders.13.norm2\nencoder.encoders.13.dropout\nencoder.encoders.14\nencoder.encoders.14.self_attn\nencoder.encoders.14.self_attn.linear_q\nencoder.encoders.14.self_attn.linear_k\nencoder.encoders.14.self_attn.linear_v\nencoder.encoders.14.self_attn.linear_out\nencoder.encoders.14.self_attn.dropout\nencoder.encoders.14.feed_forward\nencoder.encoders.14.feed_forward.w_1\nencoder.encoders.14.feed_forward.w_2\nencoder.encoders.14.feed_forward.dropout\nencoder.encoders.14.norm1\nencoder.encoders.14.norm2\nencoder.encoders.14.dropout\nencoder.encoders.15\nencoder.encoders.15.self_attn\nencoder.encoders.15.self_attn.linear_q\nencoder.encoders.15.self_attn.linear_k\nencoder.encoders.15.self_attn.linear_v\nencoder.encoders.15.self_attn.linear_out\nencoder.encoders.15.self_attn.dropout\nencoder.encoders.15.feed_forward\nencoder.encoders.15.feed_forward.w_1\nencoder.encoders.15.feed_forward.w_2\nencoder.encoders.15.feed_forward.dropout\nencoder.encoders.15.norm1\nencoder.encoders.15.norm2\nencoder.encoders.15.dropout\nencoder.encoders.16\nencoder.encoders.16.self_attn\nencoder.encoders.16.self_attn.linear_q\nencoder.encoders.16.self_attn.linear_k\nencoder.encoders.16.self_attn.linear_v\nencoder.encoders.16.self_attn.linear_out\nencoder.encoders.16.self_attn.dropout\nencoder.encoders.16.feed_forward\nencoder.encoders.16.feed_forward.w_1\nencoder.encoders.16.feed_forward.w_2\nencoder.encoders.16.feed_forward.dropout\nencoder.encoders.16.norm1\nencoder.encoders.16.norm2\nencoder.encoders.16.dropout\nencoder.encoders.17\nencoder.encoders.17.self_attn\nencoder.encoders.17.self_attn.linear_q\nencoder.encoders.17.self_attn.linear_k\nencoder.encoders.17.self_attn.linear_v\nencoder.encoders.17.self_attn.linear_out\nencoder.encoders.17.self_attn.dropout\nencoder.encoders.17.feed_forward\nencoder.encoders.17.feed_forward.w_1\nencoder.encoders.17.feed_forward.w_2\nencoder.encoders.17.feed_forward.dropout\nencoder.encoders.17.norm1\nencoder.encoders.17.norm2\nencoder.encoders.17.dropout\nencoder.after_norm\ndecoder\ndecoder.embed\ndecoder.embed.0\ndecoder.embed.1\ndecoder.embed.1.dropout\ndecoder.after_norm\ndecoder.output_layer\ndecoder.decoders\ndecoder.decoders.0\ndecoder.decoders.0.self_attn\ndecoder.decoders.0.self_attn.linear_q\ndecoder.decoders.0.self_attn.linear_k\ndecoder.decoders.0.self_attn.linear_v\ndecoder.decoders.0.self_attn.linear_out\ndecoder.decoders.0.self_attn.dropout\ndecoder.decoders.0.src_attn\ndecoder.decoders.0.src_attn.linear_q\ndecoder.decoders.0.src_attn.linear_k\ndecoder.decoders.0.src_attn.linear_v\ndecoder.decoders.0.src_attn.linear_out\ndecoder.decoders.0.src_attn.dropout\ndecoder.decoders.0.feed_forward\ndecoder.decoders.0.feed_forward.w_1\ndecoder.decoders.0.feed_forward.w_2\ndecoder.decoders.0.feed_forward.dropout\ndecoder.decoders.0.norm1\ndecoder.decoders.0.norm2\ndecoder.decoders.0.norm3\ndecoder.decoders.0.dropout\ndecoder.decoders.1\ndecoder.decoders.1.self_attn\ndecoder.decoders.1.self_attn.linear_q\ndecoder.decoders.1.self_attn.linear_k\ndecoder.decoders.1.self_attn.linear_v\ndecoder.decoders.1.self_attn.linear_out\ndecoder.decoders.1.self_attn.dropout\ndecoder.decoders.1.src_attn\ndecoder.decoders.1.src_attn.linear_q\ndecoder.decoders.1.src_attn.linear_k\ndecoder.decoders.1.src_attn.linear_v\ndecoder.decoders.1.src_attn.linear_out\ndecoder.decoders.1.src_attn.dropout\ndecoder.decoders.1.feed_forward\ndecoder.decoders.1.feed_forward.w_1\ndecoder.decoders.1.feed_forward.w_2\ndecoder.decoders.1.feed_forward.dropout\ndecoder.decoders.1.norm1\ndecoder.decoders.1.norm2\ndecoder.decoders.1.norm3\ndecoder.decoders.1.dropout\ndecoder.decoders.2\ndecoder.decoders.2.self_attn\ndecoder.decoders.2.self_attn.linear_q\ndecoder.decoders.2.self_attn.linear_k\ndecoder.decoders.2.self_attn.linear_v\ndecoder.decoders.2.self_attn.linear_out\ndecoder.decoders.2.self_attn.dropout\ndecoder.decoders.2.src_attn\ndecoder.decoders.2.src_attn.linear_q\ndecoder.decoders.2.src_attn.linear_k\ndecoder.decoders.2.src_attn.linear_v\ndecoder.decoders.2.src_attn.linear_out\ndecoder.decoders.2.src_attn.dropout\ndecoder.decoders.2.feed_forward\ndecoder.decoders.2.feed_forward.w_1\ndecoder.decoders.2.feed_forward.w_2\ndecoder.decoders.2.feed_forward.dropout\ndecoder.decoders.2.norm1\ndecoder.decoders.2.norm2\ndecoder.decoders.2.norm3\ndecoder.decoders.2.dropout\ndecoder.decoders.3\ndecoder.decoders.3.self_attn\ndecoder.decoders.3.self_attn.linear_q\ndecoder.decoders.3.self_attn.linear_k\ndecoder.decoders.3.self_attn.linear_v\ndecoder.decoders.3.self_attn.linear_out\ndecoder.decoders.3.self_attn.dropout\ndecoder.decoders.3.src_attn\ndecoder.decoders.3.src_attn.linear_q\ndecoder.decoders.3.src_attn.linear_k\ndecoder.decoders.3.src_attn.linear_v\ndecoder.decoders.3.src_attn.linear_out\ndecoder.decoders.3.src_attn.dropout\ndecoder.decoders.3.feed_forward\ndecoder.decoders.3.feed_forward.w_1\ndecoder.decoders.3.feed_forward.w_2\ndecoder.decoders.3.feed_forward.dropout\ndecoder.decoders.3.norm1\ndecoder.decoders.3.norm2\ndecoder.decoders.3.norm3\ndecoder.decoders.3.dropout\ndecoder.decoders.4\ndecoder.decoders.4.self_attn\ndecoder.decoders.4.self_attn.linear_q\ndecoder.decoders.4.self_attn.linear_k\ndecoder.decoders.4.self_attn.linear_v\ndecoder.decoders.4.self_attn.linear_out\ndecoder.decoders.4.self_attn.dropout\ndecoder.decoders.4.src_attn\ndecoder.decoders.4.src_attn.linear_q\ndecoder.decoders.4.src_attn.linear_k\ndecoder.decoders.4.src_attn.linear_v\ndecoder.decoders.4.src_attn.linear_out\ndecoder.decoders.4.src_attn.dropout\ndecoder.decoders.4.feed_forward\ndecoder.decoders.4.feed_forward.w_1\ndecoder.decoders.4.feed_forward.w_2\ndecoder.decoders.4.feed_forward.dropout\ndecoder.decoders.4.norm1\ndecoder.decoders.4.norm2\ndecoder.decoders.4.norm3\ndecoder.decoders.4.dropout\ndecoder.decoders.5\ndecoder.decoders.5.self_attn\ndecoder.decoders.5.self_attn.linear_q\ndecoder.decoders.5.self_attn.linear_k\ndecoder.decoders.5.self_attn.linear_v\ndecoder.decoders.5.self_attn.linear_out\ndecoder.decoders.5.self_attn.dropout\ndecoder.decoders.5.src_attn\ndecoder.decoders.5.src_attn.linear_q\ndecoder.decoders.5.src_attn.linear_k\ndecoder.decoders.5.src_attn.linear_v\ndecoder.decoders.5.src_attn.linear_out\ndecoder.decoders.5.src_attn.dropout\ndecoder.decoders.5.feed_forward\ndecoder.decoders.5.feed_forward.w_1\ndecoder.decoders.5.feed_forward.w_2\ndecoder.decoders.5.feed_forward.dropout\ndecoder.decoders.5.norm1\ndecoder.decoders.5.norm2\ndecoder.decoders.5.norm3\ndecoder.decoders.5.dropout\nctc\nctc.ctc_lo\nctc.ctc_loss\ncriterion_att\ncriterion_att.criterion\n"
     ]
    }
   ],
   "source": [
    "for name, parameter in net.named_modules():\n",
    "    print(name)\n",
    "    # print(parameter)"
   ]
  }
 ]
}