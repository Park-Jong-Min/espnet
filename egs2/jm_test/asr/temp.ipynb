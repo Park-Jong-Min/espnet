{
 "metadata": {
  "language_info": {
   "codemirror_mode": {
    "name": "ipython",
    "version": 3
   },
   "file_extension": ".py",
   "mimetype": "text/x-python",
   "name": "python",
   "nbconvert_exporter": "python",
   "pygments_lexer": "ipython3",
   "version": "3.8.5-final"
  },
  "orig_nbformat": 2,
  "kernelspec": {
   "name": "espnet_1.7.1",
   "display_name": "espnet_1.7.1",
   "language": "python"
  }
 },
 "nbformat": 4,
 "nbformat_minor": 2,
 "cells": [
  {
   "cell_type": "code",
   "execution_count": 1,
   "metadata": {},
   "outputs": [],
   "source": [
    "import soundfile\n",
    "import torch\n",
    "import matplotlib.pyplot as plt\n",
    "from espnet_model_zoo.downloader import ModelDownloader\n",
    "from espnet2.bin.asr_inference import Speech2Text"
   ]
  },
  {
   "cell_type": "code",
   "execution_count": null,
   "metadata": {},
   "outputs": [],
   "source": [
    "def save_image(image_list, name, n_layers, n_heads):\n",
    "    rows = n_layers\n",
    "    cols = n_heads\n",
    "    fig_saved_dir = './exp/feature_images/'\n",
    "\n",
    "    for j in range(rows):\n",
    "        fig = plt.figure(figsize=(100,100))\n",
    "        axes = []\n",
    "        for i in range(cols):\n",
    "            img = image_list[j*cols+i]\n",
    "            axes.append(fig.add_subplot(1, cols, i+1))\n",
    "            plt.imshow(img)\n",
    "            plt.axis('off')\n",
    "\n",
    "        print('process {0} layer images....'.format(j))\n",
    "        plt.savefig(fig_saved_dir + 'audio' + str(audio_num) + '_' + name +'_layer{0}_attention.png'.format(j),\n",
    "                    bbox_inches='tight',\n",
    "                    dpi=100)\n",
    "\n",
    "    # Use show when you want to show your attention image while extraction\n",
    "    # plt.show() \n",
    "\n",
    "# Set test wav for attention image extraction\n",
    "TEST_DATA_PATH = \"./data/dev_clean\"\n",
    "WAV_LIST_PATH = TEST_DATA_PATH + \"/wav.scp\"\n",
    "\n",
    "file_name_list = []\n",
    "audio_num = 1 # selelct one of the wav in file_name_list\n",
    "\n",
    "with open(WAV_LIST_PATH, \"r\") as f:\n",
    "    lines = f.readlines()\n",
    "    for line in lines:\n",
    "        num, name = line.split(' ')\n",
    "        file_name_list.append(name[:-1])\n",
    "\n",
    "speech, rate = soundfile.read(file_name_list[audio_num])\n",
    "\n",
    "# Prepare model\n",
    "d = ModelDownloader()\n",
    "\n",
    "ASR_MODEL_PATH = \"/home_data/jmpark/espnet/tools/anaconda/envs/espnet_1.7/lib/python3.8/site-packages/espnet_model_zoo/653d10049fdc264f694f57b49849343e/exp/asr_train_asr_transformer_e18_raw_bpe_sp/54epoch.pth\"\n",
    "LM_MODEL_PATH = \"/home_data/jmpark/espnet/tools/anaconda/envs/espnet_1.7.1/lib/python3.8/site-packages/espnet_model_zoo/653d10049fdc264f694f57b49849343e/exp/lm_train_lm_adam_bpe/17epoch.pth\"\n",
    "\n",
    "speech2text = Speech2Text(\n",
    "    **d.download_and_unpack('Shinji Watanabe/librispeech_asr_train_asr_transformer_e18_raw_bpe_sp_valid.acc.best'),\n",
    "    # Decoding parameters are not included in the model file\n",
    "    maxlenratio=0.0,\n",
    "    minlenratio=0.0,\n",
    "    beam_size=1,\n",
    "    ctc_weight=0.4,\n",
    "    lm_weight=0.6,\n",
    "    penalty=0.0,\n",
    "    nbest=1\n",
    ")\n",
    "# Add register hook for in encoder layers.\n",
    "net = speech2text.asr_model"
   ]
  },
  {
   "cell_type": "code",
   "execution_count": null,
   "metadata": {
    "tags": []
   },
   "outputs": [],
   "source": [
    "saved_encoder_self_attn_images = []\n",
    "\n",
    "def attn_encoder(self, input_tensor, output_tensor):\n",
    "    saved_encoder_self_attn_images.append(output_tensor)\n",
    "\n",
    "for name, parameter in net.named_modules():\n",
    "    for i in range(18): \n",
    "        if 'encoder.encoders.'+ str(i) +'.self_attn' == name:\n",
    "            print(name)\n",
    "            print(parameter)\n",
    "            parameter.register_forward_hook(attn_encoder)"
   ]
  },
  {
   "cell_type": "code",
   "execution_count": null,
   "metadata": {},
   "outputs": [],
   "source": [
    "saved_decoder_self_attn_images = []\n",
    "saved_decoder_self_attn_images_in = []\n",
    "def attn_decoder(self, input_tensor, output_tensor):\n",
    "    saved_decoder_self_attn_images_in.append(input_tensor)\n",
    "    saved_decoder_self_attn_images.append(output_tensor)\n",
    "    # cols = output_tensor[1].shape[1]\n",
    "\n",
    "    # for i in range(cols):\n",
    "    #     img = output_tensor[1][0,i,:]\n",
    "    #     saved_decoder_self_attn_images.append(img)\n",
    "\n",
    "for name, parameter in net.named_modules():\n",
    "    for i in range(6): \n",
    "        if 'decoder.decoders.'+ str(i) +'.self_attn' == name:\n",
    "            print(name)\n",
    "            print(parameter)\n",
    "            parameter.register_forward_hook(attn_decoder)"
   ]
  },
  {
   "cell_type": "code",
   "execution_count": null,
   "metadata": {
    "tags": []
   },
   "outputs": [],
   "source": [
    "saved_encoder_self_attn_images = []\n",
    "saved_decoder_self_attn_images = []\n",
    "saved_decoder_self_attn_images_in = []\n",
    "out = speech2text(speech)"
   ]
  },
  {
   "cell_type": "code",
   "execution_count": null,
   "metadata": {},
   "outputs": [],
   "source": [
    "print(len(saved_decoder_self_attn_images))\n",
    "print(len(saved_decoder_self_attn_images_in))\n",
    "print(len(saved_encoder_self_attn_images))"
   ]
  },
  {
   "cell_type": "code",
   "execution_count": null,
   "metadata": {},
   "outputs": [],
   "source": [
    "en_output_tensor = saved_encoder_self_attn_images[10]\n",
    "en_cols = en_output_tensor[1].size()\n",
    "print(len(en_output_tensor))\n",
    "print(en_output_tensor[0].shape)\n",
    "print(en_output_tensor[1].shape)\n",
    "print(en_cols)\n",
    "\n",
    "for i in range(8):\n",
    "    img = en_output_tensor[1]\n",
    "    print(img.shape)"
   ]
  },
  {
   "cell_type": "code",
   "execution_count": null,
   "metadata": {},
   "outputs": [],
   "source": [
    "de_output_tensor = saved_decoder_self_attn_images[5]\n",
    "print(de_output_tensor[0].size())\n",
    "de_cols = de_output_tensor[1].size(1)\n",
    "print(de_cols)\n",
    "\n",
    "for i in range(de_cols):\n",
    "    img = de_output_tensor[1]\n",
    "    print(img.shape)"
   ]
  },
  {
   "cell_type": "code",
   "execution_count": null,
   "metadata": {},
   "outputs": [],
   "source": [
    "de_output_tensor = saved_decoder_self_attn_images_in[24]\n",
    "print(de_output_tensor[2])\n",
    "print(de_output_tensor[1])\n",
    "de_cols = de_output_tensor[1].size(1)\n",
    "print(de_cols)\n",
    "\n",
    "for i in range(de_cols):\n",
    "    img = de_output_tensor[1]\n",
    "    print(img.shape)"
   ]
  },
  {
   "cell_type": "code",
   "execution_count": null,
   "metadata": {},
   "outputs": [],
   "source": [
    "# save_image(saved_decoder_self_attn_images, 'decoder_self_attn', 6, 8)"
   ]
  }
 ]
}