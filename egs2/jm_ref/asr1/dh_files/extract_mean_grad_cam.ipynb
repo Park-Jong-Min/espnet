{
 "metadata": {
  "language_info": {
   "codemirror_mode": {
    "name": "ipython",
    "version": 3
   },
   "file_extension": ".py",
   "mimetype": "text/x-python",
   "name": "python",
   "nbconvert_exporter": "python",
   "pygments_lexer": "ipython3",
   "version": "3.8.5-final"
  },
  "orig_nbformat": 2,
  "kernelspec": {
   "name": "python3",
   "display_name": "Python 3.8.5 64-bit ('espnet': conda)",
   "metadata": {
    "interpreter": {
     "hash": "fe19ea1dd1c022a555d1887e1747d5402a0438a9e4c1a077d5b483c4b395fede"
    }
   }
  }
 },
 "nbformat": 4,
 "nbformat_minor": 2,
 "cells": [
  {
   "cell_type": "code",
   "execution_count": 10,
   "metadata": {},
   "outputs": [],
   "source": [
    "from extract_grad_cam_image import *\n",
    "from tqdm import tqdm"
   ]
  },
  {
   "cell_type": "code",
   "execution_count": 2,
   "metadata": {},
   "outputs": [],
   "source": [
    "class Hook():\n",
    "    def __init__(self, module):\n",
    "        self.hook_f = module.register_forward_hook(self.hook_f_fn)\n",
    "        self.target_output = None\n",
    "\n",
    "    def hook_f_fn(self, module, input, output):\n",
    "        self.target_output = input[0]\n",
    "\n",
    "    def close(self):\n",
    "        self.hook.remove()\n",
    "\n",
    "def apply_hook(model, layer_idx, module_type, attn_type):\n",
    "    # module_type : 'encoder', 'decoder'\n",
    "    # attn_type : 'self_attn', 'src_attn'\n",
    "    for name, module in model.named_modules():\n",
    "        if f'{module_type}.{module_type}s.{layer_idx}.{attn_type}.linear_out' == name:\n",
    "            hook = Hook(module=module)\n",
    "    return hook\n",
    "\n",
    "exp_dir = '/home/jmpark/home_data_jmpark/espnet/egs2/jm_ref/asr1/exp'\n",
    "\n",
    "saved_encoder_grad_cam_images = []\n",
    "\n",
    "TEST_DATA_PATH = \"./../data/dev_clean\"\n",
    "WAV_LIST_PATH = TEST_DATA_PATH + \"/wav.scp\"\n",
    "ANSWER_LIST_PATH = TEST_DATA_PATH + \"/text\"\n",
    "\n",
    "file_name_list = []\n",
    "speech_ans_list = []\n",
    "\n",
    "with open(WAV_LIST_PATH, \"r\") as f:\n",
    "    lines = f.readlines()\n",
    "    for line in lines:\n",
    "        num, name = line.split(' ')\n",
    "        file_name_list.append(name[:-1])\n",
    "\n",
    "with open(ANSWER_LIST_PATH, \"r\") as f:\n",
    "    lines = f.readlines()\n",
    "    for line in lines:\n",
    "        speech_ans_list.append(line[17:])\n",
    "\n",
    "# Prepare model\n",
    "d = ModelDownloader()\n",
    "\n",
    "speech2text = Speech2Text(\n",
    "    **d.download_and_unpack('Shinji Watanabe/librispeech_asr_train_asr_transformer_e18_raw_bpe_sp_valid.acc.best'),\n",
    "    # Decoding parameters are not included in the model file\n",
    "    maxlenratio=0.0,\n",
    "    minlenratio=0.0,\n",
    "    beam_size=1,\n",
    "    ctc_weight=1.0,\n",
    "    lm_weight=0.0,\n",
    "    penalty=0.0,\n",
    "    nbest=1,\n",
    "    out_mode=\"ctc\"\n",
    ")\n",
    "\n",
    "hook_list = []\n",
    "\n",
    "# Add register hook for in encoder layers.\n",
    "net = speech2text.asr_model\n",
    "\n",
    "for i in range(18):\n",
    "    hook_list.append(apply_hook(net, i, 'encoder', 'self_attn'))"
   ]
  },
  {
   "cell_type": "code",
   "execution_count": 12,
   "metadata": {},
   "outputs": [
    {
     "output_type": "stream",
     "name": "stderr",
     "text": [
      "100%|██████████| 2703/2703 [1:45:52<00:00,  2.35s/it]\n"
     ]
    }
   ],
   "source": [
    "img_list = []\n",
    "word_num_list = []\n",
    "\n",
    "for audio in tqdm(range(len(file_name_list))):\n",
    "    audio_num = audio # selelct one of the wav in file_name_list\n",
    "    speech, rate = soundfile.read(file_name_list[audio_num])\n",
    "\n",
    "    out, ctc_out = speech2text(speech)\n",
    "    ctc_argmax = ctc_out.argmax(2)\n",
    "\n",
    "    one_hot = torch.zeros_like(ctc_out)\n",
    "    one_hot.scatter_(2, ctc_argmax.unsqueeze(2), 1.0)\n",
    "    img = make_grad_cam_img_list(model=net, target_out=ctc_out, target_loss=one_hot, hook_list=hook_list)\n",
    "    img_list.append(img)\n",
    "    word_num_list.append(audio_num)"
   ]
  },
  {
   "cell_type": "code",
   "execution_count": 13,
   "metadata": {},
   "outputs": [],
   "source": [
    "import numpy as np"
   ]
  },
  {
   "cell_type": "code",
   "execution_count": 15,
   "metadata": {},
   "outputs": [
    {
     "output_type": "execute_result",
     "data": {
      "text/plain": [
       "array([[[0.00278851, 0.00348732, 0.00431593, ..., 0.00171665,\n",
       "         0.0021893 , 0.00221548],\n",
       "        [0.00180147, 0.00124574, 0.00181621, ..., 0.00169283,\n",
       "         0.00139309, 0.00168609],\n",
       "        [0.00105069, 0.00131716, 0.00136562, ..., 0.00100729,\n",
       "         0.00141241, 0.0014442 ],\n",
       "        ...,\n",
       "        [0.00544281, 0.00307936, 0.00141175, ..., 0.00166242,\n",
       "         0.00375049, 0.0014074 ],\n",
       "        [0.00149392, 0.00189142, 0.00205876, ..., 0.00210663,\n",
       "         0.00144028, 0.00230863],\n",
       "        [0.0007858 , 0.00131748, 0.00085343, ..., 0.00374274,\n",
       "         0.00244202, 0.00270876]],\n",
       "\n",
       "       [[0.0022967 , 0.0033199 , 0.00418904, ..., 0.00181741,\n",
       "         0.00187251, 0.00191541],\n",
       "        [0.00164767, 0.00113384, 0.00167113, ..., 0.00222542,\n",
       "         0.00097298, 0.00179821],\n",
       "        [0.00098186, 0.00164017, 0.00129954, ..., 0.00080936,\n",
       "         0.00152343, 0.00142044],\n",
       "        ...,\n",
       "        [0.00363807, 0.00233927, 0.00115288, ..., 0.00154184,\n",
       "         0.00279359, 0.0018757 ],\n",
       "        [0.00148618, 0.0027428 , 0.00180704, ..., 0.00200571,\n",
       "         0.00137516, 0.00162631],\n",
       "        [0.00066886, 0.0013329 , 0.0006124 , ..., 0.00322425,\n",
       "         0.00230478, 0.00297394]],\n",
       "\n",
       "       [[0.00251754, 0.00306244, 0.00438645, ..., 0.00136334,\n",
       "         0.00141303, 0.00343765],\n",
       "        [0.00217898, 0.00114816, 0.00217831, ..., 0.00260245,\n",
       "         0.00129599, 0.00198904],\n",
       "        [0.00132366, 0.00160108, 0.00173289, ..., 0.00082505,\n",
       "         0.00126945, 0.00133529],\n",
       "        ...,\n",
       "        [0.00486471, 0.00265456, 0.00153866, ..., 0.00148921,\n",
       "         0.00415156, 0.00201907],\n",
       "        [0.00192212, 0.00236793, 0.00255516, ..., 0.00174823,\n",
       "         0.00171436, 0.00242581],\n",
       "        [0.00097454, 0.00141255, 0.00097238, ..., 0.00457267,\n",
       "         0.00363809, 0.00314418]],\n",
       "\n",
       "       ...,\n",
       "\n",
       "       [[0.00142681, 0.00193405, 0.00300166, ..., 0.00113802,\n",
       "         0.00127747, 0.00124802],\n",
       "        [0.00107642, 0.00090086, 0.00098821, ..., 0.00083745,\n",
       "         0.000906  , 0.00148223],\n",
       "        [0.00087575, 0.00102002, 0.000917  , ..., 0.00050444,\n",
       "         0.00072116, 0.00081675],\n",
       "        ...,\n",
       "        [0.00409932, 0.00255597, 0.00176091, ..., 0.00169057,\n",
       "         0.00424016, 0.00214173],\n",
       "        [0.00175474, 0.00268519, 0.00286437, ..., 0.00193367,\n",
       "         0.00148713, 0.00276231],\n",
       "        [0.00102866, 0.00124481, 0.00101587, ..., 0.00320933,\n",
       "         0.00305423, 0.00338242]],\n",
       "\n",
       "       [[0.00394209, 0.00556988, 0.00678031, ..., 0.00367466,\n",
       "         0.00331932, 0.0045103 ],\n",
       "        [0.0029246 , 0.00237588, 0.00325798, ..., 0.00333502,\n",
       "         0.00384192, 0.00310144],\n",
       "        [0.00118805, 0.00187757, 0.00237552, ..., 0.00115371,\n",
       "         0.00258837, 0.00161521],\n",
       "        ...,\n",
       "        [0.00349872, 0.00272844, 0.00110383, ..., 0.0020362 ,\n",
       "         0.00273708, 0.00143541],\n",
       "        [0.00179719, 0.00252724, 0.00156657, ..., 0.00150361,\n",
       "         0.00197172, 0.00120823],\n",
       "        [0.00063201, 0.00085503, 0.00069147, ..., 0.00384711,\n",
       "         0.00256637, 0.00232863]],\n",
       "\n",
       "       [[0.0018384 , 0.00360505, 0.00310998, ..., 0.00196386,\n",
       "         0.0013405 , 0.00234613],\n",
       "        [0.00120446, 0.00124871, 0.00170766, ..., 0.00111855,\n",
       "         0.00180151, 0.00088269],\n",
       "        [0.00086366, 0.001126  , 0.00113758, ..., 0.00062985,\n",
       "         0.00102291, 0.00074894],\n",
       "        ...,\n",
       "        [0.00494274, 0.00225595, 0.00146739, ..., 0.00117077,\n",
       "         0.00316408, 0.00182105],\n",
       "        [0.0020302 , 0.001784  , 0.00191405, ..., 0.00198964,\n",
       "         0.00203898, 0.00259421],\n",
       "        [0.00097354, 0.00130091, 0.00103011, ..., 0.00442248,\n",
       "         0.00309217, 0.00267586]]], dtype=float32)"
      ]
     },
     "metadata": {},
     "execution_count": 15
    }
   ],
   "source": [
    "total_img_np = np.array(img_list)\n",
    "total_img_np"
   ]
  },
  {
   "cell_type": "code",
   "execution_count": 116,
   "metadata": {},
   "outputs": [
    {
     "output_type": "stream",
     "name": "stdout",
     "text": [
      "0.008317363\n0.0049155816\n"
     ]
    }
   ],
   "source": [
    "mean_img = np.mean(total_img_np, axis=0)\n",
    "print(mean_img[17, 4])\n",
    "print(mean_img[7, 1])"
   ]
  },
  {
   "cell_type": "code",
   "execution_count": 17,
   "metadata": {},
   "outputs": [
    {
     "output_type": "stream",
     "name": "stdout",
     "text": [
      "process mean target images....\n"
     ]
    }
   ],
   "source": [
    "save_img = []\n",
    "save_img.append(mean_img)\n",
    "\n",
    "save_encoder_grad_image(image_list=save_img, target_list=['mean'], audio_num='mean',\n",
    "                                n_targets=1, PATH=exp_dir + f'/feature_images/encoder_grad_cam/sentence/mean/')"
   ]
  }
 ]
}